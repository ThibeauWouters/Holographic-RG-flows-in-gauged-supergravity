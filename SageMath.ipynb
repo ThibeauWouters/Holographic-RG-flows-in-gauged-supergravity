{
 "cells": [
  {
   "cell_type": "code",
   "execution_count": 58,
   "metadata": {},
   "outputs": [],
   "source": [
    "R.<x_1,x_2,x_3,x_4,x_5,x_6,x_7> = PolynomialRing(ZZ)\n",
    "pol = x_1*x_2*x_3*x_4*x_5*x_6*x_7 + x_1*x_2*x_3*x_7 + x_1*x_2*x_5*x_6 \n",
    "+ x_1*x_3*x_4*x_5+x_1*x_4*x_6*x_7+x_2*x_3*x_4*x_6+x_2*x_4*x_5*x_7+x_3*x_5*x_6*x_7+x_1*x_2*x_4 \n",
    "+ x_1*x_3*x_6+x_1*x_5*x_7+x_2*x_6*x_7+x_2*x_3*x_5+x_3*x_4*x_7+x_4*x_5*x_6 + 1\n",
    "S7 = SymmetricGroup(7)\n",
    "els = S7.list()\n",
    "goodlist = []\n",
    "\n",
    "# P = Permutation(els[5])\n",
    "# nlovar = P.action(lovar)\n",
    "# npol = pol.subs({x_1:nlovar[0],x_2:nlovar[1],x_3:nlovar[2],x_4:nlovar[3],x_5:nlovar[4],x_6:nlovar[5],x_7:nlovar[6]})\n",
    "# npol == pol\n",
    "\n",
    "for i in range(0, len(els)):\n",
    "    lovar = [x_1,x_2,x_3,x_4,x_5,x_6,x_7]\n",
    "    perm = Permutation(els[i])\n",
    "    nlovar = perm.action(nvars)\n",
    "    npol = pol.subs({x_1:nlovar[0],x_2:nlovar[1],x_3:nlovar[2],x_4:nlovar[3],x_5:nlovar[4],x_6:nlovar[5],x_7:nlovar[6]})\n",
    "    if npol == pol:\n",
    "        goodlist.append(els[i])\n",
    "subg = S7.subgroup(goodlist)"
   ]
  }
 ],
 "metadata": {
  "kernelspec": {
   "display_name": "SageMath 9.3",
   "language": "sage",
   "name": "sagemath"
  },
  "language_info": {
   "codemirror_mode": {
    "name": "ipython",
    "version": 3
   },
   "file_extension": ".py",
   "mimetype": "text/x-python",
   "name": "python",
   "nbconvert_exporter": "python",
   "pygments_lexer": "ipython3",
   "version": "3.7.10"
  }
 },
 "nbformat": 4,
 "nbformat_minor": 4
}
